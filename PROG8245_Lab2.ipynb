{
 "cells": [
  {
   "cell_type": "code",
   "execution_count": 16,
   "id": "0b18b3a3",
   "metadata": {},
   "outputs": [],
   "source": [
    "import pandas as pd\n",
    "import statistics\n",
    "import re\n",
    "from datetime import datetime\n",
    "from collections import defaultdict\n",
    "import json"
   ]
  },
  {
   "cell_type": "markdown",
   "id": "cccc5634",
   "metadata": {},
   "source": [
    "# Lab2 - Data Collection and Pre-processing"
   ]
  },
  {
   "cell_type": "markdown",
   "id": "a186a648",
   "metadata": {},
   "source": [
    "## 1. Hello, Data!"
   ]
  },
  {
   "cell_type": "code",
   "execution_count": 17,
   "id": "eaab8112",
   "metadata": {},
   "outputs": [
    {
     "data": {
      "application/vnd.microsoft.datawrangler.viewer.v0+json": {
       "columns": [
        {
         "name": "index",
         "rawType": "int64",
         "type": "integer"
        },
        {
         "name": "date",
         "rawType": "object",
         "type": "string"
        },
        {
         "name": "customer_id",
         "rawType": "object",
         "type": "string"
        },
        {
         "name": "product",
         "rawType": "object",
         "type": "string"
        },
        {
         "name": "price",
         "rawType": "float64",
         "type": "float"
        },
        {
         "name": "quantity",
         "rawType": "int64",
         "type": "integer"
        },
        {
         "name": "coupon_code",
         "rawType": "object",
         "type": "string"
        },
        {
         "name": "shipping_city",
         "rawType": "object",
         "type": "string"
        }
       ],
       "ref": "b48c5171-852b-4652-ac98-86ab90de0ff9",
       "rows": [
        [
         "0",
         "2023-05-15",
         "fc1fd698-529d-4978-8196-2a4177424066",
         "Noise Cancelling Earbuds",
         "138.52",
         "5",
         "FREESHIP05",
         "Rochamouth"
        ],
        [
         "1",
         "2024-04-22",
         "8fa43fff-c1cf-4744-9de9-2df45832a513",
         "Laptop Stand",
         "115.27",
         "4",
         "SAVE10",
         "East David"
        ],
        [
         "2",
         "2024-01-15",
         "11155053-7973-48a4-9fd0-56546744e9e1",
         "Portable Charger",
         "476.25",
         "1",
         "SAVE10",
         "South Michealland"
        ]
       ],
       "shape": {
        "columns": 7,
        "rows": 3
       }
      },
      "text/html": [
       "<div>\n",
       "<style scoped>\n",
       "    .dataframe tbody tr th:only-of-type {\n",
       "        vertical-align: middle;\n",
       "    }\n",
       "\n",
       "    .dataframe tbody tr th {\n",
       "        vertical-align: top;\n",
       "    }\n",
       "\n",
       "    .dataframe thead th {\n",
       "        text-align: right;\n",
       "    }\n",
       "</style>\n",
       "<table border=\"1\" class=\"dataframe\">\n",
       "  <thead>\n",
       "    <tr style=\"text-align: right;\">\n",
       "      <th></th>\n",
       "      <th>date</th>\n",
       "      <th>customer_id</th>\n",
       "      <th>product</th>\n",
       "      <th>price</th>\n",
       "      <th>quantity</th>\n",
       "      <th>coupon_code</th>\n",
       "      <th>shipping_city</th>\n",
       "    </tr>\n",
       "  </thead>\n",
       "  <tbody>\n",
       "    <tr>\n",
       "      <th>0</th>\n",
       "      <td>2023-05-15</td>\n",
       "      <td>fc1fd698-529d-4978-8196-2a4177424066</td>\n",
       "      <td>Noise Cancelling Earbuds</td>\n",
       "      <td>138.52</td>\n",
       "      <td>5</td>\n",
       "      <td>FREESHIP05</td>\n",
       "      <td>Rochamouth</td>\n",
       "    </tr>\n",
       "    <tr>\n",
       "      <th>1</th>\n",
       "      <td>2024-04-22</td>\n",
       "      <td>8fa43fff-c1cf-4744-9de9-2df45832a513</td>\n",
       "      <td>Laptop Stand</td>\n",
       "      <td>115.27</td>\n",
       "      <td>4</td>\n",
       "      <td>SAVE10</td>\n",
       "      <td>East David</td>\n",
       "    </tr>\n",
       "    <tr>\n",
       "      <th>2</th>\n",
       "      <td>2024-01-15</td>\n",
       "      <td>11155053-7973-48a4-9fd0-56546744e9e1</td>\n",
       "      <td>Portable Charger</td>\n",
       "      <td>476.25</td>\n",
       "      <td>1</td>\n",
       "      <td>SAVE10</td>\n",
       "      <td>South Michealland</td>\n",
       "    </tr>\n",
       "  </tbody>\n",
       "</table>\n",
       "</div>"
      ],
      "text/plain": [
       "         date                           customer_id                   product  \\\n",
       "0  2023-05-15  fc1fd698-529d-4978-8196-2a4177424066  Noise Cancelling Earbuds   \n",
       "1  2024-04-22  8fa43fff-c1cf-4744-9de9-2df45832a513              Laptop Stand   \n",
       "2  2024-01-15  11155053-7973-48a4-9fd0-56546744e9e1          Portable Charger   \n",
       "\n",
       "    price  quantity coupon_code      shipping_city  \n",
       "0  138.52         5  FREESHIP05         Rochamouth  \n",
       "1  115.27         4      SAVE10         East David  \n",
       "2  476.25         1      SAVE10  South Michealland  "
      ]
     },
     "execution_count": 17,
     "metadata": {},
     "output_type": "execute_result"
    }
   ],
   "source": [
    "#Load raw CSV, display first 3 rows\n",
    "df_transactions = pd.read_csv('data/ecommerce_dataset.csv')\n",
    "df_transactions.head(3)"
   ]
  },
  {
   "cell_type": "markdown",
   "id": "a511eb6f",
   "metadata": {},
   "source": [
    "## 2. Pick the Right Container\n",
    "Dictionary, namedtuple and class all have their own pros and cons. \n",
    "* Dicionary is mutalbe, lightwighted, and easy to serialize/deserialize\n",
    "* Namedtuple is readable, fast, lightweighted, and immutalble\n",
    "* Class is used to encapsulate data and logic. It is customizable and flexible. By default it's mutalbe.\n",
    "\n",
    "Based on what we are going to do in this lab, class is the best choice. It can encapsulate the clean logic and all the transaction data. Future engineering property (days_since_purchase) can be also easily added as a calculated field."
   ]
  },
  {
   "cell_type": "markdown",
   "id": "8885cbad",
   "metadata": {},
   "source": [
    "## 3. Transaction Class and OO data structure"
   ]
  },
  {
   "cell_type": "code",
   "execution_count": 18,
   "id": "25971a02",
   "metadata": {},
   "outputs": [],
   "source": [
    "#Transaction class\n",
    "class Transaction:\n",
    "    def __init__(self, list):\n",
    "        self._date = datetime.strptime(list[0], \"%Y-%m-%d\")\n",
    "        self._customerId = list[1]\n",
    "        self._product_name = list[2]\n",
    "        self._price = list[3]\n",
    "        self._quantity = list[4]\n",
    "        self._couponCode = list[5]\n",
    "        self._shipToCity = list[6]\n",
    "\n",
    "    @property\n",
    "    def Date(self):\n",
    "        return self._date\n",
    "\n",
    "    @Date.setter\n",
    "    def Date(self, value):\n",
    "        self._date = value\n",
    "\n",
    "    @property\n",
    "    def ProductName(self):\n",
    "        return self._product_name\n",
    "\n",
    "    @ProductName.setter\n",
    "    def ProductName(self, value):\n",
    "        self._product_name = value\n",
    "\n",
    "    @property\n",
    "    def Price(self):\n",
    "        return self._price\n",
    "\n",
    "    @Price.setter\n",
    "    def Price(self, value):\n",
    "        self._price = value\n",
    "\n",
    "    @property\n",
    "    def Quantity(self):\n",
    "        return self._quantity\n",
    "\n",
    "    @Quantity.setter\n",
    "    def Quantity(self, value):\n",
    "        self._quantity = value\n",
    "    \n",
    "    @property\n",
    "    def CustomerId(self):\n",
    "        return self._customerId\n",
    "    \n",
    "    @CustomerId.setter\n",
    "    def CustomerId(self, value):\n",
    "        self._customerId = value\n",
    "\n",
    "    @property\n",
    "    def ShipToCity(self):\n",
    "        return self._shipToCity\n",
    "    \n",
    "    @ShipToCity.setter\n",
    "    def ShipToCity(self, value):\n",
    "        self._shipToCity = value\n",
    "\n",
    "    @property\n",
    "    def Discount(self):\n",
    "        if (str(self._couponCode) == 'nan'):\n",
    "            return 0\n",
    "        match = re.search(r'(\\d{2})$', self._couponCode)\n",
    "        if match:\n",
    "            return int(match.group(1))\n",
    "        else:\n",
    "            return 0\n",
    "\n",
    "    @property\n",
    "    def DaysSincePurchase(self):\n",
    "        return (datetime.today() - self.Date).days\n",
    "\n",
    "    def ToString(self):\n",
    "        return f\"Date: {self.Date.strftime(\"%Y-%m-%d\")}, CustomerId: {self.CustomerId}, ProductName: {self.ProductName}, Price: {self.Price}, Quantity: {self.Quantity}, Ship to City: {self.ShipToCity}\""
   ]
  },
  {
   "cell_type": "markdown",
   "id": "e9c8d686",
   "metadata": {},
   "source": [
    "## 4. Bulk Loader"
   ]
  },
  {
   "cell_type": "code",
   "execution_count": 19,
   "id": "f68a38f5",
   "metadata": {},
   "outputs": [
    {
     "name": "stdout",
     "output_type": "stream",
     "text": [
      "Date: 2023-05-15, CustomerId: fc1fd698-529d-4978-8196-2a4177424066, ProductName: Noise Cancelling Earbuds, Price: 138.52, Quantity: 5, Ship to City: Rochamouth\n",
      "Date: 2024-04-22, CustomerId: 8fa43fff-c1cf-4744-9de9-2df45832a513, ProductName: Laptop Stand, Price: 115.27, Quantity: 4, Ship to City: East David\n",
      "Date: 2024-01-15, CustomerId: 11155053-7973-48a4-9fd0-56546744e9e1, ProductName: Portable Charger, Price: 476.25, Quantity: 1, Ship to City: South Michealland\n"
     ]
    }
   ],
   "source": [
    "class TransactionDataLoader:\n",
    "    #load_transactions() returning list of transactions\n",
    "    def load_transactions(self, df):\n",
    "        transactionList = []\n",
    "        for _, row in df.iterrows():\n",
    "            transaction = Transaction(row.tolist())\n",
    "            transactionList.append(transaction)\n",
    "        \n",
    "        return transactionList\n",
    "    \n",
    "# load and display transactions\n",
    "transactions = TransactionDataLoader().load_transactions(df_transactions)\n",
    "for t in transactions[:3]:\n",
    "    print(t.ToString())"
   ]
  },
  {
   "cell_type": "markdown",
   "id": "6f8b0634",
   "metadata": {},
   "source": [
    "## 5. Quick Profiling"
   ]
  },
  {
   "cell_type": "code",
   "execution_count": 20,
   "id": "36a34613",
   "metadata": {},
   "outputs": [
    {
     "name": "stdout",
     "output_type": "stream",
     "text": [
      "Min price: -24.78\n",
      "Max price: 499.92\n",
      "Mean price: 253.20124\n",
      "Unique country count: 51\n"
     ]
    }
   ],
   "source": [
    "#calculate min/mean/max price, and unique city count \n",
    "class DataProfiler:\n",
    "    def __init__(self, transactions):\n",
    "        self._transactionList = transactions\n",
    "    def minPrice(self):\n",
    "        return min(t.Price for t in self._transactionList)\n",
    "    \n",
    "    def maxPrice(self):\n",
    "        return max(t.Price for t in self._transactionList) \n",
    "    \n",
    "    def meanPrice(self):\n",
    "        return statistics.mean(t.Price for t in self._transactionList)\n",
    "\n",
    "    def uniqueCityCount(self):\n",
    "        return len(set(t.ShipToCity for t in self._transactionList))\n",
    "\n",
    "#calculate and display prifiling\n",
    "dataProfiler = DataProfiler(transactions)\n",
    "min_price = dataProfiler.minPrice()\n",
    "max_price = dataProfiler.maxPrice()\n",
    "mean_price = dataProfiler.meanPrice()\n",
    "uniqueCityCount = dataProfiler.uniqueCityCount()\n",
    "\n",
    "print(f'Min price: {min_price}')\n",
    "print(f'Max price: {max_price}')\n",
    "print(f'Mean price: {mean_price}')\n",
    "print(f'Unique country count: {uniqueCityCount}')"
   ]
  },
  {
   "cell_type": "markdown",
   "id": "84900ea3",
   "metadata": {},
   "source": [
    "## 6. Spot the Grime\n",
    "* There is a transaction with negative price\n",
    "* There is a transaction with negative quantity\n",
    "* There is a transaction with ship to city as \"N/A\""
   ]
  },
  {
   "cell_type": "markdown",
   "id": "10602848",
   "metadata": {},
   "source": [
    "## 7. Cleaning Rules"
   ]
  },
  {
   "cell_type": "code",
   "execution_count": 21,
   "id": "a49d1e17",
   "metadata": {},
   "outputs": [
    {
     "name": "stdout",
     "output_type": "stream",
     "text": [
      "Before count: 500\n",
      "After count: 498\n"
     ]
    }
   ],
   "source": [
    "# Find the Grime, and clean\n",
    "class DataCleaner:\n",
    "    def __init__(self, transactions):\n",
    "        self._transactions = transactions\n",
    "\n",
    "    def clean(self):\n",
    "        #find and remove transactions with negative price\n",
    "        negativePrices = [t for t in self._transactions if t.Price < 0]\n",
    "        for t in negativePrices:\n",
    "            self._transactions.remove(t)\n",
    "\n",
    "        #find and remove transactions with negative quantity\n",
    "        negativeQuantities = [t for t in self._transactions if t.Quantity < 0]\n",
    "        for t in negativeQuantities:\n",
    "            self._transactions.remove(t)\n",
    "\n",
    "        #standardise invalid city to None\n",
    "        invalidCities = [t for t in self._transactions if str(t.ShipToCity) == 'nan']\n",
    "        for t in invalidCities:\n",
    "            t.Country = 'None'\n",
    "\n",
    "#show “before/after” counts\n",
    "print(f\"Before count: {len(transactions)}\")\n",
    "dataCleaner = DataCleaner(transactions).clean()\n",
    "print(f\"After count: {len(transactions)}\")"
   ]
  },
  {
   "cell_type": "markdown",
   "id": "c330eb8c",
   "metadata": {},
   "source": [
    "## 8. Transformations\n",
    "* Parse coupon_code ➞ numeric discount: added field (Discount) to Transaction class"
   ]
  },
  {
   "cell_type": "code",
   "execution_count": 22,
   "id": "b909e598",
   "metadata": {},
   "outputs": [
    {
     "name": "stdout",
     "output_type": "stream",
     "text": [
      "5\n",
      "10\n",
      "10\n",
      "5\n",
      "0\n"
     ]
    }
   ],
   "source": [
    "#Use regular expression to get the numeric discount from the coupon code\n",
    "value = \"SAVEH20\"\n",
    "match = re.search(r'(\\d{2})$', value)\n",
    "if match:\n",
    "    last_two_digits = int(match.group(1))\n",
    "\n",
    "#show the Discount of the top 3 transactions\n",
    "for t in transactions[:5]:\n",
    "    print(t.Discount)"
   ]
  },
  {
   "cell_type": "markdown",
   "id": "1c1fcbda",
   "metadata": {},
   "source": [
    "## 9. Feature Engineering\n",
    "Add field DaysSincePurchase to class Transaction"
   ]
  },
  {
   "cell_type": "code",
   "execution_count": 23,
   "id": "363d776e",
   "metadata": {},
   "outputs": [
    {
     "name": "stdout",
     "output_type": "stream",
     "text": [
      "742\n",
      "399\n",
      "497\n"
     ]
    }
   ],
   "source": [
    "#show the DaysSincePurchase of the top 3 transactions\n",
    "for t in transactions[:3]:\n",
    "    print(t.DaysSincePurchase)"
   ]
  },
  {
   "cell_type": "markdown",
   "id": "f449ef29",
   "metadata": {},
   "source": [
    "## 10. Mini-Aggregation"
   ]
  },
  {
   "cell_type": "code",
   "execution_count": 24,
   "id": "d2be5d9f",
   "metadata": {},
   "outputs": [
    {
     "name": "stdout",
     "output_type": "stream",
     "text": [
      "Rochamouth: 1,157,409.45\n",
      "East David: 920,150.70\n",
      "South Michealland: 1,415,248.40\n",
      "Harmonport: 685,554.05\n",
      "North Beth: 572,158.70\n",
      "South Jonathanhaven: 840,471.75\n",
      "East Susan: 1,094,838.20\n",
      "Ericaside: 1,269,520.95\n",
      "West Raymondport: 351,901.40\n",
      "Smithshire: 775,639.70\n",
      "North John: 618,924.30\n",
      "East Debrahaven: 305,796.90\n",
      "Beltranfort: 1,048,049.20\n",
      "Danielbury: 542,227.30\n",
      "nan: 62,910.00\n",
      "South Dana: 692,156.70\n",
      "Barryberg: 408,847.60\n",
      "North Nicoletown: 731,266.00\n",
      "Port Corey: 1,029,509.75\n",
      "East Jason: 571,066.40\n",
      "New Jane: 845,271.55\n",
      "North Jaredshire: 1,012,195.00\n",
      "Stevenport: 1,032,269.10\n",
      "New Melissa: 504,117.05\n",
      "Desireestad: 706,697.70\n",
      "Harrischester: 462,824.00\n",
      "East Shannon: 765,188.40\n",
      "Rodriguezborough: 1,149,738.60\n",
      "Jensenborough: 482,648.10\n",
      "Stevenshire: 604,372.70\n",
      "North Robert: 675,346.85\n",
      "Lanefurt: 600,500.20\n",
      "Millerchester: 272,849.00\n",
      "Dalefurt: 567,961.05\n",
      "West Nicoleburgh: 605,853.00\n",
      "Manuelview: 991,420.15\n",
      "Melissaburgh: 957,158.60\n",
      "North Kevin: 541,633.50\n",
      "Lauramouth: 841,872.30\n",
      "East Michellemouth: 538,548.40\n",
      "North Michael: 346,290.40\n",
      "Foxland: 1,490,959.10\n",
      "Floresmouth: 346,575.70\n",
      "Adamfort: 738,944.40\n",
      "Port Loretta: 410,010.40\n",
      "Burgessfort: 1,095,176.00\n",
      "Newmanbury: 462,180.45\n",
      "Butlermouth: 876,117.15\n",
      "Lemouth: 312,233.40\n",
      "East Lisa: 209,029.80\n",
      "North Hannahton: 112,026.00\n"
     ]
    }
   ],
   "source": [
    "class Aggregator:\n",
    "    def __init__(self, transactions):\n",
    "        self._transactions = transactions\n",
    "\n",
    "    #calculate revenue per shipping_city\n",
    "    def calculateRevenuePerCity(self):\n",
    "        revenue_by_city = defaultdict(float)\n",
    "        for t in self._transactions:\n",
    "            revenue_by_city[t.ShipToCity] += float(t.Price * t.Quantity * (100 - t.Discount))\n",
    "\n",
    "        return revenue_by_city\n",
    "\n",
    "#display result\n",
    "revenues = Aggregator(transactions).calculateRevenuePerCity()\n",
    "for city, total in revenues.items():\n",
    "    print(f\"{city}: {total:,.2f}\")"
   ]
  },
  {
   "cell_type": "markdown",
   "id": "5afba9c1",
   "metadata": {},
   "source": [
    "## 11. Serialization Checkpoint"
   ]
  },
  {
   "cell_type": "code",
   "execution_count": 25,
   "id": "39bb1c5f",
   "metadata": {},
   "outputs": [],
   "source": [
    "# Serialization \n",
    "class Serializer:\n",
    "    def __init__(self, transactions):\n",
    "        self._transactions = transactions\n",
    "        self._transactions_dict = [\n",
    "            {\n",
    "                \"Date\": t.Date.strftime(\"%Y-%m-%d\"),\n",
    "                \"CustomerId\": t.CustomerId,\n",
    "                \"ProductName\": t.ProductName,\n",
    "                \"Price\": float(t.Price),\n",
    "                \"Discount\": t.Discount,\n",
    "                \"Quantity\": t.Quantity,\n",
    "                \"Shit to City\": t.ShipToCity\n",
    "            }\n",
    "            for t in transactions\n",
    "        ]\n",
    "    #Save cleaned data to Json\n",
    "    def saveToJson(self, filePath):\n",
    "        with open(filePath, \"w\") as f:\n",
    "            json.dump(self._transactions_dict, f, indent=4)\n",
    "    #Save cleaned data to Parquet\n",
    "    def saveToParquet(self, filePath):\n",
    "        df = pd.DataFrame(self._transactions_dict)\n",
    "        df.to_parquet(filePath, index=False)\n",
    "\n",
    "#Save cleaned data\n",
    "serializer = Serializer(transactions)\n",
    "serializer.saveToJson('artifacts/transaction_json.json')\n",
    "serializer.saveToParquet('artifacts/transaction_parquet.parquet')"
   ]
  },
  {
   "cell_type": "markdown",
   "id": "4ee5233b",
   "metadata": {},
   "source": [
    "## 12. Soft Interview Reflection -  how OOP helped\n",
    "In this lab, OOP helps encapsulate all the properties (fields) of a transaction into an object, which represents a row in the transaction dataset. Since the object is mutable, it makes data cleaning and transformation easier. It also allows encapsulating logic within the object—such as extracting a numeric discount from a coupon code or calculating the number of days since purchase. Furthermore, using objects makes it easier for humans to understand the actions, as they resemble our daily interactions with real-life objects."
   ]
  },
  {
   "cell_type": "markdown",
   "id": "b997e7fa",
   "metadata": {},
   "source": [
    "## Data-Dictionary Section"
   ]
  },
  {
   "cell_type": "code",
   "execution_count": 26,
   "id": "037494c3",
   "metadata": {},
   "outputs": [
    {
     "data": {
      "text/markdown": [
       "| date       | customer_id                          | product                  |   price |   quantity | coupon_code   | shipping_city     | product_id                           | category    |   stock | supplier                       |   rating |\n",
       "|:-----------|:-------------------------------------|:-------------------------|--------:|-----------:|:--------------|:------------------|:-------------------------------------|:------------|--------:|:-------------------------------|---------:|\n",
       "| 2023-05-15 | fc1fd698-529d-4978-8196-2a4177424066 | Noise Cancelling Earbuds |  138.52 |          5 | FREESHIP05    | Rochamouth        | c59139a8-8a2d-43f2-a1a5-ec6a5b5caa85 | Accessories |     202 | Anderson, Holloway and Bennett |      5   |\n",
       "| 2024-04-22 | 8fa43fff-c1cf-4744-9de9-2df45832a513 | Laptop Stand             |  115.27 |          4 | SAVE10        | East David        | 37a9630a-cfa3-49bd-ba09-be80ce736e78 | Peripherals |     117 | Johnson, Weber and White       |      3.1 |\n",
       "| 2024-01-15 | 11155053-7973-48a4-9fd0-56546744e9e1 | Portable Charger         |  476.25 |          1 | SAVE10        | South Michealland | e315b3dc-b69f-4307-80f9-bd637b9966f3 | Peripherals |     311 | Harris-Lang                    |      4.7 |\n",
       "| 2023-06-12 | 32aaf677-3403-4230-97ad-651ec2b74d24 | Gaming Keyboard          |   24.79 |          1 | FREESHIP05    | Harmonport        | 88223c05-783f-44bb-a2ae-392e29e61185 | Peripherals |      97 | Thomas and Sons                |      4.9 |\n",
       "| 2023-01-11 | d08ded6e-d60f-44e5-9d88-7db65d774c60 | LED Monitor              |  254.36 |          3 | nan           | North Beth        | 2e8c42ec-5457-4e8c-b828-5b5c3177b298 | Peripherals |     403 | Liu PLC                        |      3.3 |"
      ],
      "text/plain": [
       "<IPython.core.display.Markdown object>"
      ]
     },
     "metadata": {},
     "output_type": "display_data"
    }
   ],
   "source": [
    "from IPython.display import Markdown\n",
    "#convert transaction dataframe to dict\n",
    "dict_transaction = df_transactions.to_dict(orient='records')\n",
    "#read product catalog data\n",
    "df_product = pd.read_csv('data/product_catalog.csv')\n",
    "#convert dataframe to a data dictionary with product name as key\n",
    "product_dict = {item['product_name']: {k: v for k, v in item.items() if k != 'product_name'} for _, item in df_product.iterrows()}\n",
    "#merge product info to transactions\n",
    "for t in dict_transaction:\n",
    "    product_info = product_dict.get(t['product'], {})  # Use .get to avoid KeyError\n",
    "    t.update(product_info)\n",
    "df = pd.DataFrame(dict_transaction)\n",
    "# Display as markdown table (first 5 rows for brevity)\n",
    "table = df.head().to_markdown(index=False)\n",
    "display(Markdown(table))\n"
   ]
  }
 ],
 "metadata": {
  "kernelspec": {
   "display_name": "Python 3",
   "language": "python",
   "name": "python3"
  },
  "language_info": {
   "codemirror_mode": {
    "name": "ipython",
    "version": 3
   },
   "file_extension": ".py",
   "mimetype": "text/x-python",
   "name": "python",
   "nbconvert_exporter": "python",
   "pygments_lexer": "ipython3",
   "version": "3.13.3"
  }
 },
 "nbformat": 4,
 "nbformat_minor": 5
}
